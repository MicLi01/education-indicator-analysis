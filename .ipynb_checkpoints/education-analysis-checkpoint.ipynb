{
 "cells": [
  {
   "cell_type": "code",
   "execution_count": 2,
   "metadata": {},
   "outputs": [],
   "source": [
    "# Libraries\n",
    "import numpy as np\n",
    "import pandas as pd\n",
    "import matplotlib.pyplot as plt\n",
    "from sklearn.linear_model import LinearRegression"
   ]
  },
  {
   "cell_type": "code",
   "execution_count": 3,
   "metadata": {},
   "outputs": [],
   "source": [
    "# Loading Datasets on to DataFrames\n",
    "indicators_url = 'https://github.com/chc5/education-indicator-analysis/raw/master/2018_all_indicators.csv'\n",
    "education_url = 'https://github.com/chc5/education-indicator-analysis/raw/master/adult_education_level.csv'\n",
    "\n",
    "inds_df = pd.read_csv(indicators_url)\n",
    "ed_df = pd.read_csv(education_url)\n",
    "\n",
    "# Column 9999 in the Indicators Dataset only shows the latest value from the data drawn within 1990 to 2017.\n",
    "# In order to detect education system growth predictors this column is unneccessary.\n",
    "inds_df = inds_df.drop(columns=['9999'])"
   ]
  },
  {
   "cell_type": "code",
   "execution_count": 4,
   "metadata": {},
   "outputs": [
    {
     "name": "stdout",
     "output_type": "stream",
     "text": [
      "25636\n",
      "6242\n"
     ]
    }
   ],
   "source": [
    "# Many indicators from 1990 to 2017 that only have at most one or two recordings for a specific indicators.\n",
    "# These recordings may or may not indicate growth over the years which will not contribute to our analysis.\n",
    "# These indicators will be dropped.\n",
    "# When threshold = 1, it removed 25636 - 20588 = 5048 / 25636 = 20% of the indicators\n",
    "threshold = 20\n",
    "drop_stack = set()\n",
    "print(len(inds_df))\n",
    "for index, row in inds_df.iterrows():\n",
    "#     print(row['1990':].count())\n",
    "    if row['1990':].count() <= threshold:\n",
    "        drop_stack.add(index)\n",
    "inds_df = inds_df.drop(drop_stack)\n",
    "print(len(inds_df))\n"
   ]
  },
  {
   "cell_type": "code",
   "execution_count": 36,
   "metadata": {},
   "outputs": [
    {
     "name": "stdout",
     "output_type": "stream",
     "text": [
      "0\n"
     ]
    },
    {
     "ename": "ValueError",
     "evalue": "cannot reshape array of size 0 into shape (0,newaxis)",
     "output_type": "error",
     "traceback": [
      "\u001b[1;31m---------------------------------------------------------------------------\u001b[0m",
      "\u001b[1;31mValueError\u001b[0m                                Traceback (most recent call last)",
      "\u001b[1;32m<ipython-input-36-9bcfa3a04f3f>\u001b[0m in \u001b[0;36m<module>\u001b[1;34m\u001b[0m\n\u001b[0;32m     15\u001b[0m     \u001b[0myear\u001b[0m \u001b[1;33m=\u001b[0m \u001b[0mnp\u001b[0m\u001b[1;33m.\u001b[0m\u001b[0msetdiff1d\u001b[0m\u001b[1;33m(\u001b[0m\u001b[0myear\u001b[0m\u001b[1;33m,\u001b[0m \u001b[0mmissing_years\u001b[0m\u001b[1;33m)\u001b[0m\u001b[1;33m.\u001b[0m\u001b[0mastype\u001b[0m\u001b[1;33m(\u001b[0m\u001b[0mint\u001b[0m\u001b[1;33m)\u001b[0m\u001b[1;33m.\u001b[0m\u001b[0mreshape\u001b[0m\u001b[1;33m(\u001b[0m\u001b[1;33m-\u001b[0m\u001b[1;36m1\u001b[0m\u001b[1;33m,\u001b[0m \u001b[1;36m1\u001b[0m\u001b[1;33m)\u001b[0m\u001b[1;33m\u001b[0m\u001b[1;33m\u001b[0m\u001b[0m\n\u001b[0;32m     16\u001b[0m     \u001b[0mmissing_years\u001b[0m \u001b[1;33m=\u001b[0m \u001b[0mmissing_years\u001b[0m\u001b[1;33m.\u001b[0m\u001b[0mastype\u001b[0m\u001b[1;33m(\u001b[0m\u001b[0mint\u001b[0m\u001b[1;33m)\u001b[0m\u001b[1;33m\u001b[0m\u001b[1;33m\u001b[0m\u001b[0m\n\u001b[1;32m---> 17\u001b[1;33m     \u001b[0mmissing_years\u001b[0m \u001b[1;33m=\u001b[0m \u001b[0mmissing_years\u001b[0m\u001b[1;33m.\u001b[0m\u001b[0mreshape\u001b[0m\u001b[1;33m(\u001b[0m\u001b[0mmissing_years\u001b[0m\u001b[1;33m.\u001b[0m\u001b[0mshape\u001b[0m\u001b[1;33m[\u001b[0m\u001b[1;36m0\u001b[0m\u001b[1;33m]\u001b[0m\u001b[1;33m,\u001b[0m\u001b[1;33m-\u001b[0m\u001b[1;36m1\u001b[0m\u001b[1;33m)\u001b[0m\u001b[1;33m\u001b[0m\u001b[1;33m\u001b[0m\u001b[0m\n\u001b[0m\u001b[0;32m     18\u001b[0m \u001b[1;33m\u001b[0m\u001b[0m\n\u001b[0;32m     19\u001b[0m     \u001b[0mreg\u001b[0m \u001b[1;33m=\u001b[0m \u001b[0mLinearRegression\u001b[0m\u001b[1;33m(\u001b[0m\u001b[1;33m)\u001b[0m\u001b[1;33m\u001b[0m\u001b[1;33m\u001b[0m\u001b[0m\n",
      "\u001b[1;31mValueError\u001b[0m: cannot reshape array of size 0 into shape (0,newaxis)"
     ]
    }
   ],
   "source": [
    "def get_missing_dataset(row):\n",
    "    row_df = row.to_frame().reset_index()\n",
    "    row_df = row_df.drop(range(5))\n",
    "    row_df.columns = ['x', 'y']\n",
    "    missing_X = row_df[row_df['y'].isnull()].x\n",
    "    return missing_X\n",
    "# Predicting the missing values using Linear Regression Models\n",
    "for index, row in inds_df.tail(1).iterrows():\n",
    "#     print(row.to_frame())\n",
    "    missing_years = get_missing_dataset(row).values\n",
    "    if missing_years.size <= 0:\n",
    "        continue\n",
    "    row = row.drop(missing_years)\n",
    "    value = row.loc['1990':].values.reshape(-1, 1)\n",
    "    year = inds_df.columns.values[5:]\n",
    "    year = np.setdiff1d(year, missing_years).astype(int).reshape(-1, 1)\n",
    "    missing_years = missing_years.astype(int)\n",
    "    missing_years = missing_years.reshape(missing_years.shape[0],-1)\n",
    "    \n",
    "    reg = LinearRegression()\n",
    "    reg.fit(year, value)\n",
    "    missing_values = reg.predict(missing_years)\n",
    "    for i in range(len(missing_years[0])):\n",
    "        print(missing_years[0][i])\n",
    "        print(missing_values[0][i])\n",
    "        inds_df.set_value(index, str(missing_years[0][i]), missing_values[0][i])\n",
    "    \n",
    "#     reg\n",
    "#     temp_df = pd.melt(row_df, id_vars=['dimension', 'indicator_id', 'indicator_name', 'iso3', 'country_name'], var_name='year')"
   ]
  },
  {
   "cell_type": "code",
   "execution_count": null,
   "metadata": {},
   "outputs": [],
   "source": []
  }
 ],
 "metadata": {
  "kernelspec": {
   "display_name": "Python 3",
   "language": "python",
   "name": "python3"
  },
  "language_info": {
   "codemirror_mode": {
    "name": "ipython",
    "version": 3
   },
   "file_extension": ".py",
   "mimetype": "text/x-python",
   "name": "python",
   "nbconvert_exporter": "python",
   "pygments_lexer": "ipython3",
   "version": "3.7.1"
  }
 },
 "nbformat": 4,
 "nbformat_minor": 2
}
