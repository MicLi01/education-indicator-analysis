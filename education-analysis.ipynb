{
 "cells": [
  {
   "cell_type": "code",
   "execution_count": 38,
   "metadata": {},
   "outputs": [],
   "source": [
    "# Libraries\n",
    "import numpy as np\n",
    "import pandas as pd\n",
    "import matplotlib.pyplot as plt\n",
    "from sklearn.linear_model import LinearRegression"
   ]
  },
  {
   "cell_type": "code",
   "execution_count": 66,
   "metadata": {},
   "outputs": [],
   "source": [
    "# Loading Datasets on to DataFrames\n",
    "indicators_url = 'https://github.com/chc5/education-indicator-analysis/raw/master/2018_all_indicators.csv'\n",
    "education_url = 'https://github.com/chc5/education-indicator-analysis/raw/master/adult_education_level.csv'\n",
    "\n",
    "inds_df = pd.read_csv(indicators_url)\n",
    "ed_df = pd.read_csv(education_url)\n",
    "\n",
    "# Column 9999 in the Indicators Dataset only shows the latest value from the data drawn within 1990 to 2017.\n",
    "# In order to detect education system growth predictors this column is unneccessary.\n",
    "inds_df = inds_df.drop(columns=['9999'])"
   ]
  },
  {
   "cell_type": "code",
   "execution_count": 67,
   "metadata": {},
   "outputs": [
    {
     "name": "stdout",
     "output_type": "stream",
     "text": [
      "25636\n",
      "6242\n"
     ]
    }
   ],
   "source": [
    "# Many indicators from 1990 to 2017 that only have at most one or two recordings for a specific indicators.\n",
    "# These recordings may or may not indicate growth over the years which will not contribute to our analysis.\n",
    "# These indicators will be dropped.\n",
    "# When threshold = 1, it removed 25636 - 20588 = 5048 / 25636 = 20% of the indicators\n",
    "threshold = 20\n",
    "drop_stack = set()\n",
    "print(len(inds_df))\n",
    "for index, row in inds_df.iterrows():\n",
    "#     print(row['1990':].count())\n",
    "    if row['1990':].count() <= threshold:\n",
    "        drop_stack.add(index)\n",
    "inds_df = inds_df.drop(drop_stack)\n",
    "print(len(inds_df))\n"
   ]
  },
  {
   "cell_type": "code",
   "execution_count": null,
   "metadata": {},
   "outputs": [],
   "source": [
    "# Get the missing values at each year and return the array of years (aka. column)\n",
    "def get_missing_yearly_values(row):\n",
    "    row_df = row.to_frame().reset_index()\n",
    "    row_df = row_df.drop(range(5))\n",
    "    row_df.columns = ['x', 'y']\n",
    "    missing_X = row_df[row_df['y'].isnull()].x\n",
    "    return missing_X\n",
    "\n",
    "# Predicting the missing values using Linear Regression Models\n",
    "# and then filling out the missing values based on the model\n",
    "year_columns = inds_df.columns.values[5:]\n",
    "for index, row in inds_df.iterrows():\n",
    "    missing_years = get_missing_yearly_values(row).values\n",
    "    # If there are nothing to fill out then we don't need to model it out.\n",
    "    if missing_years.size <= 0:\n",
    "        continue\n",
    "    row = row.drop(missing_years)\n",
    "    row = row.drop(['dimension', 'indicator_id', 'indicator_name', 'iso3', 'country_name'])\n",
    "    value = row.values.reshape(-1, 1)\n",
    "    year = year_columns\n",
    "    # The difference set of total years and missing years are the years where there are recorded values.\n",
    "    year = np.setdiff1d(year, missing_years).astype(int).reshape(-1, 1)\n",
    "    missing_years = missing_years.astype(int)\n",
    "    missing_years = missing_years.reshape(missing_years.shape[0],-1)\n",
    "    \n",
    "    reg = LinearRegression()\n",
    "    reg.fit(year, value)\n",
    "    missing_values = reg.predict(missing_years)\n",
    "    # Filling out the missing data\n",
    "    for i in range(len(missing_years)):\n",
    "        inds_df.at[index, str(missing_years[i][0])] = missing_values[i][0]\n",
    "        "
   ]
  },
  {
   "cell_type": "code",
   "execution_count": null,
   "metadata": {},
   "outputs": [],
   "source": []
  }
 ],
 "metadata": {
  "kernelspec": {
   "display_name": "Python 3",
   "language": "python",
   "name": "python3"
  },
  "language_info": {
   "codemirror_mode": {
    "name": "ipython",
    "version": 3
   },
   "file_extension": ".py",
   "mimetype": "text/x-python",
   "name": "python",
   "nbconvert_exporter": "python",
   "pygments_lexer": "ipython3",
   "version": "3.7.1"
  }
 },
 "nbformat": 4,
 "nbformat_minor": 2
}
