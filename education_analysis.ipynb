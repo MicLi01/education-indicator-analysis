{
  "nbformat": 4,
  "nbformat_minor": 0,
  "metadata": {
    "colab": {
      "name": "education-analysis.ipynb",
      "version": "0.3.2",
      "provenance": [],
      "collapsed_sections": []
    },
    "language_info": {
      "codemirror_mode": {
        "name": "ipython",
        "version": 3
      },
      "file_extension": ".py",
      "mimetype": "text/x-python",
      "name": "python",
      "nbconvert_exporter": "python",
      "pygments_lexer": "ipython3",
      "version": "3.7.1"
    },
    "kernelspec": {
      "display_name": "Python 3",
      "language": "python",
      "name": "python3"
    }
  },
  "cells": [
    {
      "metadata": {
        "id": "qZZOxwfQvhYP",
        "colab_type": "text"
      },
      "cell_type": "markdown",
      "source": [
        "**Educational Attainment and Success**\n",
        "\n",
        "\n",
        "---\n",
        "\n",
        "\n",
        "Chieh-Huang Chen \\\n",
        "Melvin Cherian \\\n",
        "Michael LI \\\n",
        "\n",
        "\n",
        "---\n",
        "\n",
        "Course: CSC 59970 - Introduction to Data Science \\\n",
        "Instructor: Grant M. Long\n",
        "Project\n",
        "\n"
      ]
    },
    {
      "metadata": {
        "id": "WYANkyJow0HW",
        "colab_type": "text"
      },
      "cell_type": "markdown",
      "source": [
        "**Goals for this Project**\n",
        "\n",
        "1.  Apply Python to load, clean, and process data sets.\n",
        "2.  Identify key patterns in a data set using computational analysis and statistical methods.\n",
        "3.  Apply principles of statistical modeling and machine learning to data.\n",
        "4.  Effectively explain, visualize, and communicate empirical findings.\n",
        "\n",
        "\n",
        "---\n",
        "\n",
        "**Our Questions**\n",
        "\n",
        "\n",
        "*   What human development indicators strongly correlate with adult education level in countries?\n",
        "*   What are significant factors from each major category from the human development dataset that determines adult education level in countries?\n",
        "*   Which countries have a strong potential in increasing their education level within the next five years?\n",
        "\n",
        "---\n",
        "\n",
        "*Thoughts from Chieh (Remove this before submitting the final project)*\n",
        "\n",
        "1. Use the dataset and find potential indicators that have high coorelations with Education Index (https://en.wikipedia.org/wiki/Education_Index), which is used to judge each countries' education level based on the number of years a child is expected to attend school or university and the average number of years of education received by people ages 25 and older.\n",
        "\n",
        "2.  Find the potential indicators for each country and use those potential indicators to predict education index through linear regression.\n",
        "\n",
        "3. Assumptions of Linear Regression \\\n",
        "a.  Data is linear in form. \\\n",
        "b.  Sample is random. \\\n",
        "c.  Error terms have constant variance (homoscedasticity). \\\n",
        "d.  Error terms have a mean of zero based on the observed data. \\\n",
        "e.  Predictors are independent (no multicollinearity). \\\n",
        "f.   Errors are normally distributed. \\\n",
        "\n",
        "4. How to satisfy these assumptions from #3? \\\n",
        "a. Check if the correlation of determination is greater than 0.7  \\\n",
        "b. The data that we collected represents the consenus of the entire country. \\\n",
        "c. There's a constant variance because it's yearly. \\\n",
        "d. Get the standard error of the array and see if it is similar. \\\n",
        "e. Use an algorithm to remove coorelations between predictors. \\\n",
        "f. Yes it is. \\\n",
        "\n",
        "---\n",
        "\n",
        "*Thoughts from Melvin (Remove this before submitting the final project)*\n",
        "\n",
        "\n",
        "---\n",
        "\n",
        "*Thoughts from Michael (Remove this before submitting the final project)*\n",
        "\n",
        "---\n",
        "\n",
        "\n",
        "\n"
      ]
    },
    {
      "metadata": {
        "id": "roaXF2L2_HmS",
        "colab_type": "text"
      },
      "cell_type": "markdown",
      "source": [
        "*Libraries*\n",
        "\n",
        "\n",
        "*   Numpy\n",
        "*   Pandas\n",
        "*   Matplotlib\n",
        "\n"
      ]
    },
    {
      "metadata": {
        "colab_type": "code",
        "id": "MpsfjMdHD2uR",
        "colab": {}
      },
      "cell_type": "code",
      "source": [
        "# Libraries\n",
        "import numpy as np\n",
        "import pandas as pd\n",
        "import matplotlib.pyplot as plt\n",
        "from sklearn.linear_model import LinearRegression"
      ],
      "execution_count": 0,
      "outputs": []
    },
    {
      "metadata": {
        "id": "G6XWO6zm-05I",
        "colab_type": "text"
      },
      "cell_type": "markdown",
      "source": [
        "*Loading Data into Memory*\n",
        "\n",
        "---\n",
        "\n",
        "We loaded two datasets into memory: Adult Education Level (AEL) dataset and Human Development Indicators (HDI) dataset.\n",
        "\n",
        "We specifically removed column 9999 from our dataset because it only shows the latest value from the data drawn within 1990 to 2017. In this analysis, we analyzed these indicators over time to predict the future of education level in each country."
      ]
    },
    {
      "metadata": {
        "colab_type": "code",
        "id": "DeLRr771D2uY",
        "colab": {}
      },
      "cell_type": "code",
      "source": [
        "# Loading Datasets on to DataFrames\n",
        "indicators_url = 'https://github.com/chc5/education-indicator-analysis/raw/master/2018_all_indicators.csv'\n",
        "education_url = 'https://github.com/chc5/education-indicator-analysis/raw/master/adult_education_level.csv'\n",
        "\n",
        "inds_df = pd.read_csv(indicators_url)\n",
        "ed_df = pd.read_csv(education_url)\n",
        "\n",
        "inds_df = inds_df.drop(columns=['9999'])"
      ],
      "execution_count": 0,
      "outputs": []
    },
    {
      "metadata": {
        "id": "8EVt0okmATn3",
        "colab_type": "text"
      },
      "cell_type": "markdown",
      "source": [
        "Many of our HDIs only have zero or one recordings in the dataset in years between 1990 to 2017. Due to the lack of data over time, we decided to remove these indicators that has at most 2 data points in each row.\n",
        "\n",
        "When we removed these indicators, it cleans up at least 28% of the HDI dataset."
      ]
    },
    {
      "metadata": {
        "colab_type": "code",
        "id": "7xyRK5lTD2ub",
        "outputId": "45918093-7002-4858-88a1-dc83d359c2dd",
        "colab": {
          "base_uri": "https://localhost:8080/",
          "height": 70
        }
      },
      "cell_type": "code",
      "source": [
        "# Many indicators from 1990 to 2017 that only have at most one or two recordings for a specific indicators.\n",
        "# These recordings may or may not indicate growth over the years which will not contribute to our analysis.\n",
        "# These indicators will be dropped.\n",
        "# When threshold = 1, it removed 25636 - 20588 = 5048 / 25636 = 20% of the indicators\n",
        "threshold = 2\n",
        "drop_stack = set()\n",
        "length_before = len(inds_df)\n",
        "print(\"Number of rows in the indicators data frame before the cleanup:\", length_before)\n",
        "for index, row in inds_df.iterrows():\n",
        "    if row['1990':].count() <= threshold:\n",
        "        drop_stack.add(index)\n",
        "\n",
        "inds_df = inds_df.drop(drop_stack)\n",
        "length_after = len(inds_df)\n",
        "print(\"Number of rows in the indicators data frame after the cleanup:\", length_after)\n",
        "print(\"% of rows deleted: {0:.2f}%\".format((length_before - length_after) * 100 / length_after))\n"
      ],
      "execution_count": 3,
      "outputs": [
        {
          "output_type": "stream",
          "text": [
            "Number of rows in the indicators data frame before the cleanup: 25636\n",
            "Number of rows in the indicators data frame after the cleanup: 19911\n",
            "% of rows deleted: 28.75%\n"
          ],
          "name": "stdout"
        }
      ]
    },
    {
      "metadata": {
        "id": "eIt3qrBhClIu",
        "colab_type": "text"
      },
      "cell_type": "markdown",
      "source": [
        "# Do not run this code segment\n",
        "I believe it that it interferes with the coorelations drawn \\\n",
        "Also, these are predicted values, not actual values."
      ]
    },
    {
      "metadata": {
        "colab_type": "code",
        "id": "Dt0qa_jiD2ui",
        "colab": {}
      },
      "cell_type": "code",
      "source": [
        "# Do not run this code segment, I believe it that it interferes with the coorelations drawn\n",
        "# Also, these are predicted values, not actual values.\n",
        "\n",
        "# Get the missing values at each year and return the array of years (aka. column)\n",
        "def get_missing_yearly_values(row):\n",
        "    row_df = row.to_frame().reset_index()\n",
        "    row_df = row_df.drop(range(5))\n",
        "    row_df.columns = ['x', 'y']\n",
        "    missing_X = row_df[row_df['y'].isnull()].x\n",
        "    return missing_X\n",
        "\n",
        "# Predicting the missing values using Linear Regression Models\n",
        "# and then filling out the missing values based on the model\n",
        "year_columns = inds_df.columns.values[5:]\n",
        "for index, row in inds_df.iterrows():\n",
        "    missing_years = get_missing_yearly_values(row).values\n",
        "    # If there are nothing to fill out then we don't need to model it out.\n",
        "    if missing_years.size <= 0:\n",
        "        continue\n",
        "    row = row.drop(missing_years)\n",
        "    row = row.drop(['dimension', 'indicator_id', 'indicator_name', 'iso3', 'country_name'])\n",
        "    value = row.values.reshape(-1, 1)\n",
        "    year = year_columns\n",
        "    # The difference set of total years and missing years are the years where there are recorded values.\n",
        "    year = np.setdiff1d(year, missing_years).astype(int).reshape(-1, 1)\n",
        "    missing_years = missing_years.astype(int)\n",
        "    missing_years = missing_years.reshape(missing_years.shape[0],-1)\n",
        "    \n",
        "    reg = LinearRegression()\n",
        "    reg.fit(year, value)\n",
        "    missing_values = reg.predict(missing_years)\n",
        "    # Filling out the missing data\n",
        "    for i in range(len(missing_years)):\n",
        "        inds_df.at[index, str(missing_years[i][0])] = missing_values[i][0]\n",
        "        "
      ],
      "execution_count": 0,
      "outputs": []
    },
    {
      "metadata": {
        "id": "w75CGvKJCy12",
        "colab_type": "text"
      },
      "cell_type": "markdown",
      "source": [
        "*Plotting Correlations for each country*\n",
        "\n",
        "We have a method to retrieve each indicators for a country we specify for future uses."
      ]
    },
    {
      "metadata": {
        "colab_type": "code",
        "id": "s5nIjAhAD2ul",
        "colab": {}
      },
      "cell_type": "code",
      "source": [
        "def plot_corr(df,size=10):\n",
        "    '''Function plots a graphical correlation matrix for each pair of columns in the dataframe.\n",
        "\n",
        "    Input:\n",
        "        df: pandas DataFrame\n",
        "        size: vertical and horizontal size of the plot'''\n",
        "\n",
        "    corr = df.corr()\n",
        "    fig, ax = plt.subplots(figsize=(size, size))\n",
        "    ax.matshow(corr)\n",
        "    plt.xticks(range(len(corr.columns)), corr.columns);\n",
        "    plt.yticks(range(len(corr.columns)), corr.columns);\n",
        "    \n",
        "  \n",
        "def plot_corr_country(df, country):\n",
        "  # drop ids etc., get only rows with country, transpose\n",
        "  df_corr = inds_df.drop(df.columns[[0, 1, 3]], axis=1)[df.country_name == country].T\n",
        "  # fix columns\n",
        "  df_corr.columns = df_corr.iloc[0]\n",
        "  # drop first two rops\n",
        "  df_corr = df_corr[2:]\n",
        "  # df_corr = inds_df.drop(inds_df.columns[[0, 1, 3]], axis=1).drop(inds_df.columns[range(5,32)], axis=1)[inds_df.country_name == \"Albania\"]\n",
        "  df_corr = df_corr.apply(pd.to_numeric)\n",
        "#   plot_corr(df_corr, size=20)\n",
        "  return df_corr"
      ],
      "execution_count": 0,
      "outputs": []
    },
    {
      "metadata": {
        "id": "wg31PZDKDZdH",
        "colab_type": "text"
      },
      "cell_type": "markdown",
      "source": [
        "### How do we determine the strongest indicators to Education Index for each country?\n",
        "\n",
        "**Education Index:** A standard created by United Nations that determines educational attainment for each country. \\\n",
        "**Formula:** MYSI + EYSI / 2 \\\n",
        "Mean Years of Schooling Index(MYSI): MYS / 15 \\\n",
        "Mean Years of Schooling(MYS): Average number of years of education received by people ages 25 and older. \\\n",
        "Expected Years of Schooling Index(EYSI): EYS / 18 \\\n",
        "Expected Years of Schooling(EYS): The number of years a child is expected to attend school, or university, including the years spent on repetition. \\\n",
        "\n",
        "*Source: https://en.wikipedia.org/wiki/Education_Index* \n",
        "\n",
        "\n",
        "\n",
        "---\n",
        "\n",
        "\n",
        "We get the strongest correlations for each country by getting the correlation coefficient between the Education Index to every other indicator in the row for that country. By squaring the correlation coefficient, we get the correlation of determination (R^2) which tells us the percentage of the variance in our dependent variable that can be explained by our independent variable. In this case, we sorted the indicators based on the correlation of determination and remove all the indicators where its correlation of determination to the Education Index is less than 0.7.\n",
        "\n",
        "We then dropped the indicators that are directly dependent to the Education Index based on the formula such as 'Education index', 'Expected years of schooling (years)' and 'Mean years of schooling (years)'."
      ]
    },
    {
      "metadata": {
        "id": "x9PDmJYJAiLN",
        "colab_type": "code",
        "colab": {}
      },
      "cell_type": "code",
      "source": [
        "# Get the strongest indicators towards the Education Index by getting the strongest correlation of determination (R^2)\n",
        "# between every other indicators to the Education Index. \n",
        "def get_strongest_correlations(df_corr, indicator, num_indicators = 100, threshold=0.7):\n",
        "    correlations = []\n",
        "    for row in df_corr.corr():\n",
        "        corr_determ = df_corr.corr()[row][indicator] ** 2\n",
        "        if corr_determ >= threshold:\n",
        "          correlations.append([row, corr_determ])\n",
        "    \n",
        "    correlations.sort(key = lambda corr: corr[1], reverse=True)\n",
        "    return correlations[:num_indicators]"
      ],
      "execution_count": 0,
      "outputs": []
    },
    {
      "metadata": {
        "id": "QAdVKoeBs5WS",
        "colab_type": "code",
        "colab": {}
      },
      "cell_type": "code",
      "source": [
        "# Remove multicollinearity betweeen the potential indicators by checking the coorelations between the two indicators.\n",
        "# If there is a coorelation between the potential indicators, then remove the indicator that is least correlated with\n",
        "# the dependent variable out of the two.\n",
        "def remove_multicollinearity(df, features, target, threshold=0.8):\n",
        "  correlations = df.corr()\n",
        "  # Remove the target in the features list if it is in there.\n",
        "  temp = [f for f in features if f != target]\n",
        "  i = 0\n",
        "  while i < len(temp):\n",
        "    redo = False\n",
        "    for f in temp:\n",
        "      if correlations[f][temp[i]] > threshold \\\n",
        "        and correlations[temp[i]][target] < correlations[f][target]:\n",
        "        temp[i], temp[-1] = temp[-1], temp[i]\n",
        "        temp.pop()\n",
        "        redo = True\n",
        "        break\n",
        "    if not redo:\n",
        "      i += 1\n",
        "  return temp\n"
      ],
      "execution_count": 0,
      "outputs": []
    },
    {
      "metadata": {
        "id": "lHnvQ6lrU32n",
        "colab_type": "code",
        "colab": {}
      },
      "cell_type": "code",
      "source": [
        "# Map indicators to categories\n",
        "def map_ind_to_categories(df):\n",
        "  ind_map = {}\n",
        "  mapped_inds = df.groupby(['dimension', 'indicator_name']).size().reset_index().rename(columns={0:'count'})\n",
        "  for index, row in mapped_inds.iterrows():\n",
        "    ind_map[row['indicator_name']] = row['dimension']\n",
        "  return ind_map\n",
        "\n",
        "def group_indicators(df, potential_indicators):\n",
        "  ind_map = map_ind_to_categories(df)\n",
        "  groups = {}\n",
        "  features = []\n",
        "  for p in potential_indicators:\n",
        "    if ind_map[p[0]] not in groups:\n",
        "      groups[ind_map[p[0]]] = [p]\n",
        "    else:\n",
        "      groups[ind_map[p[0]]].append(p)\n",
        "  for g in groups:\n",
        "    features.append(max(groups[g], key=lambda g: g[1])[0])\n",
        "  return features"
      ],
      "execution_count": 0,
      "outputs": []
    },
    {
      "metadata": {
        "id": "2jJVlRZ_7jym",
        "colab_type": "code",
        "colab": {}
      },
      "cell_type": "code",
      "source": [
        "# Get potential indicators from countries\n",
        "def get_potential_indicators(df, country, target, ignored_features=[], multicollinearity=False, grouped=False):\n",
        "  country_df = plot_corr_country(df, country)\n",
        "  if target not in country_df:\n",
        "    print(\"{} does not have an {}\".format(country, target))\n",
        "    return []\n",
        "  potential_indicators = get_strongest_correlations(country_df, target)\n",
        "  potential_indicators = [p for p in potential_indicators if p[0] not in ignored_features]\n",
        "  features = [p[0] for p in potential_indicators] \n",
        "  if not multicollinearity:\n",
        "    features = remove_multicollinearity(country_df, features, target)\n",
        "  if grouped:\n",
        "    features = group_indicators(df, potential_indicators)\n",
        "  return features\n"
      ],
      "execution_count": 0,
      "outputs": []
    },
    {
      "metadata": {
        "id": "KkCuzZ-eLVMS",
        "colab_type": "code",
        "outputId": "4ab3fb93-ffb0-4f7e-e592-47d8e1f59c57",
        "colab": {
          "base_uri": "https://localhost:8080/",
          "height": 2026
        }
      },
      "cell_type": "code",
      "source": [
        "# Dropping 'Education index', 'Expected years of schooling (years)', 'Mean years of schooling (years)' and others because they are part of the formula\n",
        "dep_ed_ind = ['Education index', \n",
        "                 'Expected years of schooling (years)', \n",
        "                 'Mean years of schooling (years)', \n",
        "                 # I don't know if the indicators below is dependent to the education index. They might tell an interesting story.\n",
        "                 'Expected years of schooling, female (years)', \n",
        "                 'Mean years of schooling, female (years)',\n",
        "                 'Expected years of schooling, male (years)',\n",
        "                 'Expected years of schooling, male (years)',\n",
        "                 'Mean years of schooling, male (years)',\n",
        "                 'Inequality-adjusted education index',\n",
        "                 'Human Development Index (HDI)'\n",
        "                ]   \n",
        "\n",
        "target = 'Education index'\n",
        "top_indicators = {}\n",
        "country_names = inds_df.country_name.unique()\n",
        "for c in country_names:\n",
        "  features = get_potential_indicators(inds_df, c, target, dep_ed_ind, True, True)\n",
        "  for f in features:\n",
        "    if f in top_indicators:\n",
        "      top_indicators[f] += 1\n",
        "    else:\n",
        "      top_indicators[f] = 1\n",
        "# features = get_potential_indicators(inds_df, 'United States', target, dep_ed_ind, True, True)\n",
        "# print(features)\n",
        "sorted_top_indicators = sorted(top_indicators.items(), key=lambda kv: kv[1], reverse=True)\n",
        "i = 1\n",
        "print(\"\\n Top Indicators Used for Each Country\")\n",
        "for ind in sorted_top_indicators:\n",
        "  print(\"{}. {} \\t Number of countries: {}\".format(i, ind[0], ind[1]))\n",
        "  i += 1\n"
      ],
      "execution_count": 58,
      "outputs": [
        {
          "output_type": "stream",
          "text": [
            "Korea (Democratic People's Rep. of) does not have an Education index\n",
            "Somalia does not have an Education index\n",
            "Marshall Islands does not have an Education index\n",
            "Monaco does not have an Education index\n",
            "Nauru does not have an Education index\n",
            "San Marino does not have an Education index\n",
            "Tuvalu does not have an Education index\n",
            "\n",
            " Top Indicators Used for Each Country\n",
            "1. Working poor at PPP$3.10 a day (% of total employment) \t Number of countries: 77\n",
            "2. Forest area (% of total land area) \t Number of countries: 74\n",
            "3. Mobile phone subscriptions (per 100 people) \t Number of countries: 69\n",
            "4. Suicide rate, female (per 100,000 people) \t Number of countries: 66\n",
            "5. Gross domestic product (GDP), total (2011 PPP $ billions) \t Number of countries: 61\n",
            "6. Inequality-adjusted life expectancy index \t Number of countries: 61\n",
            "7. Red List Index (value) \t Number of countries: 58\n",
            "8. Median age (years) \t Number of countries: 57\n",
            "9. Population using improved drinking-water sources (%) \t Number of countries: 54\n",
            "10. Population using improved sanitation facilities (%) \t Number of countries: 52\n",
            "11. Inequality-adjusted HDI (IHDI) \t Number of countries: 52\n",
            "12. Internet users, total (% of population) \t Number of countries: 50\n",
            "13. Income index \t Number of countries: 49\n",
            "14. Suicide rate, male (per 100,000 people) \t Number of countries: 45\n",
            "15. Employment in services (% of total employment) \t Number of countries: 45\n",
            "16. Human Development Index (HDI), female \t Number of countries: 44\n",
            "17. Urban population (%) \t Number of countries: 43\n",
            "18. Exports and imports (% of GDP) \t Number of countries: 38\n",
            "19. Human Development Index (HDI), male \t Number of countries: 36\n",
            "20. Mortality rate, under-five (per 1,000 live births) \t Number of countries: 30\n",
            "21. Remittances, inflows (% of GDP) \t Number of countries: 30\n",
            "22. Population with at least some secondary education, female (% ages 25 and older) \t Number of countries: 29\n",
            "23. Labour force participation rate (% ages 15 and older), female \t Number of countries: 28\n",
            "24. Population with at least some secondary education (% ages 25 and older) \t Number of countries: 27\n",
            "25. Mortality rate, infant (per 1,000 live births) \t Number of countries: 27\n",
            "26. Homicide rate (per 100,000 people) \t Number of countries: 26\n",
            "27. Gross enrolment ratio, tertiary (% of tertiary school-age population) \t Number of countries: 26\n",
            "28. Young age (0-14) dependency ratio (per 100 people ages 15-64) \t Number of countries: 25\n",
            "29. Gross enrolment ratio, secondary (% of secondary school-age population) \t Number of countries: 25\n",
            "30. International inbound tourists (thousands) \t Number of countries: 25\n",
            "31. Employment in agriculture (% of total employment) \t Number of countries: 24\n",
            "32. Life expectancy at birth, male (years) \t Number of countries: 24\n",
            "33. Life expectancy at birth, female (years) \t Number of countries: 24\n",
            "34. Women with account at financial institution or with mobile money-service provider (% of female population ages 15 and older) \t Number of countries: 23\n",
            "35. Skilled labour force (% of labour force) \t Number of countries: 21\n",
            "36. Population with at least some secondary education, male (% ages 25 and older) \t Number of countries: 19\n",
            "37. Net migration rate (per 1,000 people) \t Number of countries: 19\n",
            "38. Total population (millions) \t Number of countries: 18\n",
            "39. GDP per capita (2011 PPP $) \t Number of countries: 18\n",
            "40. Labour force participation rate (% ages 15 and older), male \t Number of countries: 18\n",
            "41. Rural population with access to electricity (%) \t Number of countries: 18\n",
            "42. Vulnerable employment (% of total employment) \t Number of countries: 18\n",
            "43. Maternal mortality ratio (deaths per 100,000 live births) \t Number of countries: 17\n",
            "44. Gross national income (GNI) per capita (2011 PPP $) \t Number of countries: 16\n",
            "45. Renewable energy consumption (% of total final energy consumption) \t Number of countries: 15\n",
            "46. Population ages 15–64 (millions) \t Number of countries: 15\n",
            "47. International student mobility (% of total tertiary enrolment) \t Number of countries: 15\n",
            "48. Mortality rate, male adult (per 1,000 people) \t Number of countries: 14\n",
            "49. Fresh water withdrawals (% of total renewable water resources) \t Number of countries: 14\n",
            "50. Mortality rate, female adult (per 1,000 people) \t Number of countries: 14\n",
            "51. Adolescent birth rate (births per 1,000 women ages 15-19) \t Number of countries: 12\n",
            "52. Tuberculosis incidence (per 100,000 people) \t Number of countries: 12\n",
            "53. Inequality in education (%) \t Number of countries: 12\n",
            "54. Ratio of education and health expenditure to military expenditure \t Number of countries: 12\n",
            "55. Contraceptive prevalence, any method (% of married or in-union women of reproductive age, 15–49 years) \t Number of countries: 12\n",
            "56. Literacy rate, adult (% ages 15 and older) \t Number of countries: 11\n",
            "57. Population under age 5 (millions) \t Number of countries: 11\n",
            "58. Domestic credit provided by financial sector (% of GDP) \t Number of countries: 11\n",
            "59. Gross enrolment ratio, primary (% of primary school-age population) \t Number of countries: 10\n",
            "60. Net official development assistance received (% of GNI) \t Number of countries: 10\n",
            "61. Antenatal care coverage, at least one visit (%) \t Number of countries: 10\n",
            "62. Life expectancy index \t Number of countries: 10\n",
            "63. Government expenditure on education (% of GDP) \t Number of countries: 9\n",
            "64. Employment to population ratio (% ages 15 and older) \t Number of countries: 9\n",
            "65. Malaria incidence (per 1,000 people at risk) \t Number of countries: 9\n",
            "66. Life expectancy at birth (years) \t Number of countries: 8\n",
            "67. Research and development expenditure (% of GDP) \t Number of countries: 8\n",
            "68. Gender Inequality Index (GII) \t Number of countries: 8\n",
            "69. Old-age (65 and older) dependency ratio (per 100 people ages 15-64) \t Number of countries: 8\n",
            "70. Carbon dioxide emissions (kg per 2011 PPP $ of GDP) \t Number of countries: 8\n",
            "71. Youth not in school or employment (% ages 15-24) \t Number of countries: 8\n",
            "72. Carbon dioxide emissions, per capita (tonnes) \t Number of countries: 8\n",
            "73. Labour force participation rate (% ages 15 and older) \t Number of countries: 7\n",
            "74. Pupil-teacher ratio, primary school (pupils per teacher) \t Number of countries: 7\n",
            "75. Survival rate to the last grade of lower secondary general education (%) \t Number of countries: 6\n",
            "76. Inequality in income (%) \t Number of countries: 6\n",
            "77. Gross enrolment ratio, pre-primary (% of preschool-age children) \t Number of countries: 6\n",
            "78. Population ages 65 and older (millions) \t Number of countries: 6\n",
            "79. HIV prevalence, adult (% ages 15-49) \t Number of countries: 6\n",
            "80. Inequality-adjusted income index \t Number of countries: 6\n",
            "81. Unemployment, total (% of labour force) \t Number of countries: 5\n",
            "82. Primary school teachers trained to teach (%) \t Number of countries: 5\n",
            "83. Gross fixed capital formation (% of GDP) \t Number of countries: 5\n",
            "84. Adjusted net savings (% of GNI) \t Number of countries: 5\n",
            "85. Private capital flows (% of GDP) \t Number of countries: 4\n",
            "86. Estimated gross national income per capita, female (2011 PPP $) \t Number of countries: 4\n",
            "87. Current health expenditure (% of GDP) \t Number of countries: 4\n",
            "88. Unmet need for family planning (% of married or in-union women of reproductive age, 15–49 years) \t Number of countries: 4\n",
            "89. Unemployment, youth (% ages 15–24) \t Number of countries: 4\n",
            "90. Gender Development Index (GDI) \t Number of countries: 3\n",
            "91. Primary school dropout rate (% of primary school cohort) \t Number of countries: 3\n",
            "92. Foreign direct investment, net inflows (% of GDP) \t Number of countries: 2\n",
            "93. Coefficient of human inequality \t Number of countries: 2\n",
            "94. Overall loss in HDI due to inequality (%) \t Number of countries: 2\n",
            "95. Gross capital formation (% of GDP) \t Number of countries: 2\n",
            "96. Total debt service (% of exports of goods, services and primary income) \t Number of countries: 2\n",
            "97. Proportion of births attended by skilled health personnel (%) \t Number of countries: 2\n",
            "98. Inequality in life expectancy (%) \t Number of countries: 2\n",
            "99. Fossil fuel energy consumption (% of total energy consumption) \t Number of countries: 1\n",
            "100. Infants lacking immunization, DPT (% of one-year-olds) \t Number of countries: 1\n",
            "101. Share of seats in parliament (% held by women) \t Number of countries: 1\n",
            "102. Estimated gross national income per capita, male (2011 PPP $) \t Number of countries: 1\n",
            "103. Female share of employment in senior and middle management (%) \t Number of countries: 1\n",
            "104. Concentration index (exports) (value) \t Number of countries: 1\n"
          ],
          "name": "stdout"
        }
      ]
    }
  ]
}