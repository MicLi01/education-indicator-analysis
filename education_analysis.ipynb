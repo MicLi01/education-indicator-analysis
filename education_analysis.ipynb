{
 "cells": [
  {
   "cell_type": "markdown",
   "metadata": {
    "colab_type": "text",
    "id": "qZZOxwfQvhYP"
   },
   "source": [
    "**Educational Attainment and Success**\n",
    "\n",
    "\n",
    "---\n",
    "\n",
    "\n",
    "Chieh-Huang Chen \\\n",
    "Melvin Cherian \\\n",
    "Michael LI \\\n",
    "\n",
    "\n",
    "---\n",
    "\n",
    "Course: CSC 59970 - Introduction to Data Science \\\n",
    "Instructor: Grant M. Long\n",
    "Project\n",
    "\n"
   ]
  },
  {
   "cell_type": "markdown",
   "metadata": {
    "colab_type": "text",
    "id": "WYANkyJow0HW"
   },
   "source": [
    "**Goals for this Project**\n",
    "\n",
    "1.  Apply Python to load, clean, and process data sets.\n",
    "2.  Identify key patterns in a data set using computational analysis and statistical methods.\n",
    "3.  Apply principles of statistical modeling and machine learning to data.\n",
    "4.  Effectively explain, visualize, and communicate empirical findings.\n",
    "\n",
    "\n",
    "---\n",
    "\n",
    "**Our Questions**\n",
    "\n",
    "\n",
    "*   What human development indicators strongly correlate with adult education level in countries?\n",
    "*   What are significant factors from each major category from the human development dataset that determines adult education level in countries?\n",
    "*   Which countries have a strong potential in increasing their education level within the next five years?\n",
    "\n",
    "---\n",
    "\n",
    "*Thoughts from Chieh (Remove this before submitting the final project)*\n",
    "\n",
    "1. Use the dataset and find potential indicators that have high coorelations with Education Index (https://en.wikipedia.org/wiki/Education_Index), which is used to judge each countries' education level based on the number of years a child is expected to attend school or university and the average number of years of education received by people ages 25 and older.\n",
    "\n",
    "2.  Find the potential indicators for each country and use those potential indicators to predict education index through linear regression.\n",
    "\n",
    "3. Assumptions of Linear Regression \\\n",
    "a.  Data is linear in form. \\\n",
    "b.  Sample is random. \\\n",
    "c.  Error terms have constant variance (homoscedasticity). \\\n",
    "d.  Error terms have a mean of zero based on the observed data. \\\n",
    "e.  Predictors are independent (no multicollinearity). \\\n",
    "f.   Errors are normally distributed. \\\n",
    "\n",
    "4. How to satisfy these assumptions from #3? \\\n",
    "a. Check if the correlation of determination is greater than 0.7  \\\n",
    "b. The data that we collected represents the consenus of the entire country. \\\n",
    "c. There's a constant variance because it's yearly. \\\n",
    "d. Get the standard error of the array and see if it is similar. \\\n",
    "e. Use an algorithm to remove coorelations between predictors. \\\n",
    "f. Yes it is. \\\n",
    "\n",
    "---\n",
    "\n",
    "*Thoughts from Melvin (Remove this before submitting the final project)*\n",
    "\n",
    "\n",
    "---\n",
    "\n",
    "*Thoughts from Michael (Remove this before submitting the final project)*\n",
    "\n",
    "1. Use the dataset to find the effect of several health indicators on Education index, Pisa scores, and years of schooling.\n",
    "\n",
    "\n",
    "\n"
   ]
  },
  {
   "cell_type": "markdown",
   "metadata": {
    "colab_type": "text",
    "id": "roaXF2L2_HmS"
   },
   "source": [
    "*Libraries*\n",
    "\n",
    "\n",
    "*   Numpy\n",
    "*   Pandas\n",
    "*   Matplotlib\n",
    "\n"
   ]
  },
  {
   "cell_type": "code",
   "execution_count": 2,
   "metadata": {
    "colab": {},
    "colab_type": "code",
    "id": "MpsfjMdHD2uR"
   },
   "outputs": [],
   "source": [
    "# Libraries\n",
    "import numpy as np\n",
    "import pandas as pd\n",
    "import matplotlib.pyplot as plt\n",
    "from sklearn.linear_model import LinearRegression"
   ]
  },
  {
   "cell_type": "markdown",
   "metadata": {
    "colab_type": "text",
    "id": "G6XWO6zm-05I"
   },
   "source": [
    "*Loading Data into Memory*\n",
    "\n",
    "---\n",
    "\n",
    "We loaded two datasets into memory: Adult Education Level (AEL) dataset and Human Development Indicators (HDI) dataset.\n",
    "\n",
    "We specifically removed column 9999 from our dataset because it only shows the latest value from the data drawn within 1990 to 2017. In this analysis, we analyzed these indicators over time to predict the future of education level in each country."
   ]
  },
  {
   "cell_type": "code",
   "execution_count": 11,
   "metadata": {
    "colab": {},
    "colab_type": "code",
    "id": "DeLRr771D2uY"
   },
   "outputs": [],
   "source": [
    "# Loading Datasets on to DataFrames\n",
    "indicators_url = 'https://github.com/chc5/education-indicator-analysis/raw/master/2018_all_indicators.csv'\n",
    "education_url = 'https://github.com/chc5/education-indicator-analysis/raw/master/adult_education_level.csv'\n",
    "\n",
    "inds_df = pd.read_csv(indicators_url)\n",
    "ed_df = pd.read_csv(education_url)\n",
    "\n",
    "inds_df = inds_df.drop(columns=['9999'])"
   ]
  },
  {
   "cell_type": "markdown",
   "metadata": {
    "colab_type": "text",
    "id": "8EVt0okmATn3"
   },
   "source": [
    "Many of our HDIs only have zero or one recordings in the dataset in years between 1990 to 2017. Due to the lack of data over time, we decided to remove these indicators that has at most 2 data points in each row.\n",
    "\n",
    "When we removed these indicators, it cleans up at least 28% of the HDI dataset."
   ]
  },
  {
   "cell_type": "code",
   "execution_count": 12,
   "metadata": {
    "colab": {
     "base_uri": "https://localhost:8080/",
     "height": 70
    },
    "colab_type": "code",
    "id": "7xyRK5lTD2ub",
    "outputId": "0c9c1716-a298-4d1e-8a4c-9257404329a3"
   },
   "outputs": [
    {
     "name": "stdout",
     "output_type": "stream",
     "text": [
      "Number of rows in the indicators data frame before the cleanup: 25636\n",
      "Number of rows in the indicators data frame after the cleanup: 25636\n",
      "% of rows deleted: 0.00%\n"
     ]
    }
   ],
   "source": [
    "# Many indicators from 1990 to 2017 that only have at most one or two recordings for a specific indicators.\n",
    "# These recordings may or may not indicate growth over the years which will not contribute to our analysis.\n",
    "# These indicators will be dropped.\n",
    "# When threshold = 1, it removed 25636 - 20588 = 5048 / 25636 = 20% of the indicators\n",
    "threshold = 0\n",
    "drop_stack = set()\n",
    "length_before = len(inds_df)\n",
    "print(\"Number of rows in the indicators data frame before the cleanup:\", length_before)\n",
    "for index, row in inds_df.iterrows():\n",
    "    if row['1990':].count() <= threshold:\n",
    "        drop_stack.add(index)\n",
    "\n",
    "inds_df = inds_df.drop(drop_stack)\n",
    "length_after = len(inds_df)\n",
    "print(\"Number of rows in the indicators data frame after the cleanup:\", length_after)\n",
    "print(\"% of rows deleted: {0:.2f}%\".format((length_before - length_after) * 100 / length_after))\n"
   ]
  },
  {
   "cell_type": "markdown",
   "metadata": {
    "colab_type": "text",
    "id": "eIt3qrBhClIu"
   },
   "source": [
    "# Do not run this code segment\n",
    "I believe it that it interferes with the coorelations drawn \\\n",
    "Also, these are predicted values, not actual values."
   ]
  },
  {
   "cell_type": "code",
   "execution_count": 0,
   "metadata": {
    "colab": {},
    "colab_type": "code",
    "id": "Dt0qa_jiD2ui"
   },
   "outputs": [],
   "source": [
    "# Do not run this code segment, I believe it that it interferes with the coorelations drawn\n",
    "# Also, these are predicted values, not actual values.\n",
    "\n",
    "# Get the missing values at each year and return the array of years (aka. column)\n",
    "def get_missing_yearly_values(row):\n",
    "    row_df = row.to_frame().reset_index()\n",
    "    row_df = row_df.drop(range(5))\n",
    "    row_df.columns = ['x', 'y']\n",
    "    missing_X = row_df[row_df['y'].isnull()].x\n",
    "    return missing_X\n",
    "\n",
    "# Predicting the missing values using Linear Regression Models\n",
    "# and then filling out the missing values based on the model\n",
    "year_columns = inds_df.columns.values[5:]\n",
    "for index, row in inds_df.iterrows():\n",
    "    missing_years = get_missing_yearly_values(row).values\n",
    "    # If there are nothing to fill out then we don't need to model it out.\n",
    "    if missing_years.size <= 0:\n",
    "        continue\n",
    "    row = row.drop(missing_years)\n",
    "    row = row.drop(['dimension', 'indicator_id', 'indicator_name', 'iso3', 'country_name'])\n",
    "    value = row.values.reshape(-1, 1)\n",
    "    year = year_columns\n",
    "    # The difference set of total years and missing years are the years where there are recorded values.\n",
    "    year = np.setdiff1d(year, missing_years).astype(int).reshape(-1, 1)\n",
    "    missing_years = missing_years.astype(int)\n",
    "    missing_years = missing_years.reshape(missing_years.shape[0],-1)\n",
    "    \n",
    "    reg = LinearRegression()\n",
    "    reg.fit(year, value)\n",
    "    missing_values = reg.predict(missing_years)\n",
    "    # Filling out the missing data\n",
    "    for i in range(len(missing_years)):\n",
    "        inds_df.at[index, str(missing_years[i][0])] = missing_values[i][0]\n",
    "        "
   ]
  },
  {
   "cell_type": "markdown",
   "metadata": {
    "colab_type": "text",
    "id": "w75CGvKJCy12"
   },
   "source": [
    "*Plotting Correlations for each country*\n",
    "\n",
    "We have a method to retrieve each indicators for a country we specify for future uses."
   ]
  },
  {
   "cell_type": "code",
   "execution_count": 0,
   "metadata": {
    "colab": {},
    "colab_type": "code",
    "id": "s5nIjAhAD2ul"
   },
   "outputs": [],
   "source": [
    "def plot_corr(df,size=10):\n",
    "    '''Function plots a graphical correlation matrix for each pair of columns in the dataframe.\n",
    "\n",
    "    Input:\n",
    "        df: pandas DataFrame\n",
    "        size: vertical and horizontal size of the plot'''\n",
    "\n",
    "    corr = df.corr()\n",
    "    fig, ax = plt.subplots(figsize=(size, size))\n",
    "    ax.matshow(corr)\n",
    "    plt.xticks(range(len(corr.columns)), corr.columns);\n",
    "    plt.yticks(range(len(corr.columns)), corr.columns);\n",
    "    \n",
    "  \n",
    "def plot_corr_country(df, country):\n",
    "  # drop ids etc., get only rows with country, transpose\n",
    "  df_corr = inds_df.drop(df.columns[[0, 1, 3]], axis=1)[df.country_name == country].T\n",
    "  # fix columns\n",
    "  df_corr.columns = df_corr.iloc[0]\n",
    "  # drop first two rops\n",
    "  df_corr = df_corr[2:]\n",
    "  # df_corr = inds_df.drop(inds_df.columns[[0, 1, 3]], axis=1).drop(inds_df.columns[range(5,32)], axis=1)[inds_df.country_name == \"Albania\"]\n",
    "  df_corr = df_corr.apply(pd.to_numeric)\n",
    "#   plot_corr(df_corr, size=20)\n",
    "  return df_corr"
   ]
  },
  {
   "cell_type": "markdown",
   "metadata": {
    "colab_type": "text",
    "id": "wg31PZDKDZdH"
   },
   "source": [
    "### How do we determine the strongest indicators to Education Index for each country?\n",
    "\n",
    "**Education Index:** A standard created by United Nations that determines educational attainment for each country. \\\n",
    "**Formula:** MYSI + EYSI / 2 \\\n",
    "Mean Years of Schooling Index(MYSI): MYS / 15 \\\n",
    "Mean Years of Schooling(MYS): Average number of years of education received by people ages 25 and older. \\\n",
    "Expected Years of Schooling Index(EYSI): EYS / 18 \\\n",
    "Expected Years of Schooling(EYS): The number of years a child is expected to attend school, or university, including the years spent on repetition. \\\n",
    "\n",
    "*Source: https://en.wikipedia.org/wiki/Education_Index* \n",
    "\n",
    "\n",
    "\n",
    "---\n",
    "\n",
    "\n",
    "We get the strongest correlations for each country by getting the correlation coefficient between the Education Index to every other indicator in the row for that country. By squaring the correlation coefficient, we get the correlation of determination (R^2) which tells us the percentage of the variance in our dependent variable that can be explained by our independent variable. In this case, we sorted the indicators based on the correlation of determination and remove all the indicators where its correlation of determination to the Education Index is less than 0.7.\n",
    "\n",
    "We then dropped the indicators that are directly dependent to the Education Index based on the formula such as 'Education index', 'Expected years of schooling (years)' and 'Mean years of schooling (years)'."
   ]
  },
  {
   "cell_type": "code",
   "execution_count": 0,
   "metadata": {
    "colab": {},
    "colab_type": "code",
    "id": "x9PDmJYJAiLN"
   },
   "outputs": [],
   "source": [
    "# Get the strongest indicators towards the Education Index by getting the strongest correlation of determination (R^2)\n",
    "# between every other indicators to the Education Index. \n",
    "def get_strongest_correlations(df_corr, indicator, num_indicators = 100, threshold=0.7):\n",
    "    correlations = []\n",
    "    for row in df_corr.corr():\n",
    "        corr_determ = df_corr.corr()[row][indicator] ** 2\n",
    "        if corr_determ >= threshold:\n",
    "          correlations.append([row, corr_determ])\n",
    "    \n",
    "    correlations.sort(key = lambda corr: corr[1], reverse=True)\n",
    "    return correlations[:num_indicators]"
   ]
  },
  {
   "cell_type": "code",
   "execution_count": 0,
   "metadata": {
    "colab": {},
    "colab_type": "code",
    "id": "QAdVKoeBs5WS"
   },
   "outputs": [],
   "source": [
    "# Remove multicollinearity betweeen the potential indicators by checking the coorelations between the two indicators.\n",
    "# If there is a coorelation between the potential indicators, then remove the indicator that is least correlated with\n",
    "# the dependent variable out of the two.\n",
    "def remove_multicollinearity(df, features, target, threshold=0.8):\n",
    "  correlations = df.corr()\n",
    "  # Remove the target in the features list if it is in there.\n",
    "  temp = [f for f in features if f != target]\n",
    "  i = 0\n",
    "  while i < len(temp):\n",
    "    redo = False\n",
    "    for f in temp:\n",
    "      if correlations[f][temp[i]] > threshold \\\n",
    "        and correlations[temp[i]][target] < correlations[f][target]:\n",
    "        temp[i], temp[-1] = temp[-1], temp[i]\n",
    "        temp.pop()\n",
    "        redo = True\n",
    "        break\n",
    "    if not redo:\n",
    "      i += 1\n",
    "  return temp\n"
   ]
  },
  {
   "cell_type": "code",
   "execution_count": 0,
   "metadata": {
    "colab": {},
    "colab_type": "code",
    "id": "2jJVlRZ_7jym"
   },
   "outputs": [],
   "source": [
    "# Get potential indicators from countries\n",
    "def get_potential_indicators(df, country, target, ignored_features=[], multicollinearity=False):\n",
    "  country_df = plot_corr_country(df, country)\n",
    "  if target not in country_df:\n",
    "    print(\"{} does not have an {}\".format(country, target))\n",
    "    return []\n",
    "  potential_indicators = get_strongest_correlations(country_df, target)\n",
    "  features = [p[0] for p in potential_indicators if p[0] not in ignored_features] \n",
    "  if not multicollinearity:\n",
    "    features = remove_multicollinearity(country_df, features, target)\n",
    "  return features\n",
    "\n"
   ]
  },
  {
   "cell_type": "code",
   "execution_count": 11,
   "metadata": {
    "colab": {
     "base_uri": "https://localhost:8080/",
     "height": 2094
    },
    "colab_type": "code",
    "id": "KkCuzZ-eLVMS",
    "outputId": "eebd9c5a-46a9-47f8-da53-69a5a629c906"
   },
   "outputs": [
    {
     "name": "stdout",
     "output_type": "stream",
     "text": [
      "Korea (Democratic People's Rep. of) does not have an Education index\n",
      "Somalia does not have an Education index\n",
      "Marshall Islands does not have an Education index\n",
      "Monaco does not have an Education index\n",
      "Nauru does not have an Education index\n",
      "San Marino does not have an Education index\n",
      "Tuvalu does not have an Education index\n",
      "('Median age (years)', 162)\n",
      "('Life expectancy at birth (years)', 161)\n",
      "('Life expectancy index', 161)\n",
      "('Mortality rate, infant (per 1,000 live births)', 157)\n",
      "('Life expectancy at birth, female (years)', 155)\n",
      "('Mortality rate, under-five (per 1,000 live births)', 155)\n",
      "('Human Development Index (HDI), male', 155)\n",
      "('Human Development Index (HDI), female', 154)\n",
      "('Life expectancy at birth, male (years)', 153)\n",
      "('Urban population (%)', 146)\n",
      "('Gross domestic product (GDP), total (2011 PPP $ billions)', 142)\n",
      "('Adolescent birth rate (births per 1,000 women ages 15-19)', 141)\n",
      "('Internet users, total (% of population)', 140)\n",
      "('Young age (0-14) dependency ratio (per 100 people ages 15-64)', 140)\n",
      "('Population using improved drinking-water sources (%)', 138)\n",
      "('Population using improved sanitation facilities (%)', 138)\n",
      "('Mobile phone subscriptions (per 100 people)', 137)\n",
      "('Mortality rate, male adult (per 1,000 people)', 136)\n",
      "('Mortality rate, female adult (per 1,000 people)', 135)\n",
      "('Population with at least some secondary education, female (% ages 25 and older)', 132)\n",
      "('Total population (millions)', 131)\n",
      "('Population with at least some secondary education (% ages 25 and older)', 131)\n",
      "('Maternal mortality ratio (deaths per 100,000 live births)', 130)\n",
      "('Population ages 15–64 (millions)', 128)\n",
      "('Estimated gross national income per capita, female (2011 PPP $)', 128)\n",
      "('Red List Index (value)', 128)\n",
      "('Population with at least some secondary education, male (% ages 25 and older)', 124)\n",
      "('Forest area (% of total land area)', 123)\n",
      "('Gender Inequality Index (GII)', 121)\n",
      "('Gross enrolment ratio, tertiary (% of tertiary school-age population)', 119)\n",
      "('Gross national income (GNI) per capita (2011 PPP $)', 117)\n",
      "('Income index', 116)\n",
      "('GDP per capita (2011 PPP $)', 114)\n",
      "('International inbound tourists (thousands)', 113)\n",
      "('Inequality-adjusted life expectancy index', 110)\n",
      "('Old-age (65 and older) dependency ratio (per 100 people ages 15-64)', 109)\n",
      "('Estimated gross national income per capita, male (2011 PPP $)', 107)\n",
      "('Inequality-adjusted education index', 107)\n",
      "('Employment in services (% of total employment)', 106)\n",
      "('Employment in agriculture (% of total employment)', 102)\n",
      "('Suicide rate, female (per 100,000 people)', 97)\n",
      "('Gross enrolment ratio, secondary (% of secondary school-age population)', 96)\n",
      "('Gender Development Index (GDI)', 93)\n",
      "('Population ages 65 and older (millions)', 93)\n",
      "('Rural population with access to electricity (%)', 91)\n",
      "('Labour force participation rate (% ages 15 and older), female', 90)\n",
      "('Inequality-adjusted HDI (IHDI)', 89)\n",
      "('Suicide rate, male (per 100,000 people)', 87)\n",
      "('Renewable energy consumption (% of total final energy consumption)', 85)\n",
      "('Women with account at financial institution or with mobile money-service provider (% of female population ages 15 and older)', 80)\n",
      "('Working poor at PPP$3.10 a day (% of total employment)', 77)\n",
      "('Gross enrolment ratio, pre-primary (% of preschool-age children)', 76)\n",
      "('Share of employment in nonagriculture, female (% of total employment in nonagriculture)', 74)\n",
      "('Tuberculosis incidence (per 100,000 people)', 73)\n",
      "('Labour force participation rate (% ages 15 and older), male', 71)\n",
      "('Vulnerable employment (% of total employment)', 71)\n",
      "('Carbon dioxide emissions, per capita (tonnes)', 70)\n",
      "('Inequality in life expectancy (%)', 66)\n",
      "('Share of seats in parliament (% held by women)', 63)\n",
      "('Carbon dioxide emissions (kg per 2011 PPP $ of GDP)', 63)\n",
      "('Homicide rate (per 100,000 people)', 62)\n",
      "('Labour force participation rate (% ages 15 and older)', 61)\n",
      "('Population under age 5 (millions)', 57)\n",
      "('Gross enrolment ratio, primary (% of primary school-age population)', 57)\n",
      "('Proportion of births attended by skilled health personnel (%)', 55)\n",
      "('Malaria incidence (per 1,000 people at risk)', 55)\n",
      "('Pupil-teacher ratio, primary school (pupils per teacher)', 55)\n",
      "('Skilled labour force (% of labour force)', 55)\n",
      "('Ratio of education and health expenditure to military expenditure', 52)\n",
      "('Current health expenditure (% of GDP)', 51)\n",
      "('Antenatal care coverage, at least one visit (%)', 49)\n",
      "('International student mobility (% of total tertiary enrolment)', 47)\n",
      "('Government expenditure on education (% of GDP)', 47)\n",
      "('Domestic credit provided by financial sector (% of GDP)', 45)\n",
      "('Fossil fuel energy consumption (% of total energy consumption)', 44)\n",
      "('Employment to population ratio (% ages 15 and older)', 44)\n",
      "('Contraceptive prevalence, any method (% of married or in-union women of reproductive age, 15–49 years)', 43)\n",
      "('Exports and imports (% of GDP)', 43)\n",
      "('Inequality in education (%)', 42)\n",
      "('Inequality-adjusted income index', 41)\n",
      "('Adjusted net savings (% of GNI)', 38)\n",
      "('Research and development expenditure (% of GDP)', 37)\n",
      "('Coefficient of human inequality', 37)\n",
      "('Remittances, inflows (% of GDP)', 37)\n",
      "('HIV prevalence, adult (% ages 15-49)', 36)\n",
      "('Net migration rate (per 1,000 people)', 36)\n",
      "('Overall loss in HDI due to inequality (%)', 35)\n",
      "('Infants lacking immunization, measles (% of one-year-olds)', 34)\n",
      "('Literacy rate, adult (% ages 15 and older)', 33)\n",
      "('Gross capital formation (% of GDP)', 32)\n",
      "('Primary school teachers trained to teach (%)', 31)\n",
      "('Unemployment, total (% of labour force)', 30)\n",
      "('Inequality in income (%)', 29)\n",
      "('Total debt service (% of exports of goods, services and primary income)', 27)\n",
      "('Primary school dropout rate (% of primary school cohort)', 27)\n",
      "('Fresh water withdrawals (% of total renewable water resources)', 27)\n",
      "('Survival rate to the last grade of lower secondary general education (%)', 25)\n",
      "('Total unemployment rate (female to male ratio)', 24)\n",
      "('Unemployment, youth (% ages 15–24)', 24)\n",
      "('Unmet need for family planning (% of married or in-union women of reproductive age, 15–49 years)', 24)\n",
      "('Infants lacking immunization, DPT (% of one-year-olds)', 21)\n",
      "('Youth not in school or employment (% ages 15-24)', 21)\n",
      "('Gross fixed capital formation (% of GDP)', 18)\n",
      "('Concentration index (exports) (value)', 16)\n",
      "('Net official development assistance received (% of GNI)', 14)\n",
      "('Youth unemployment rate (female to male ratio)', 13)\n",
      "('Female share of employment in senior and middle management (%)', 11)\n",
      "('Sex ratio at birth (male to female births)', 8)\n",
      "('Mandatory paid maternity leave (days)', 6)\n",
      "('Foreign direct investment, net inflows (% of GDP)', 5)\n",
      "('Private capital flows (% of GDP)', 4)\n"
     ]
    }
   ],
   "source": [
    "# Dropping 'Education index', 'Expected years of schooling (years)', 'Mean years of schooling (years)' and others because they are part of the formula\n",
    "dep_ed_ind = ['Education index', \n",
    "                 'Expected years of schooling (years)', \n",
    "                 'Mean years of schooling (years)', \n",
    "                 # I don't know if the indicators below is dependent to the education index. They might tell an interesting story.\n",
    "                 'Expected years of schooling, female (years)', \n",
    "                 'Mean years of schooling, female (years)',\n",
    "                 'Expected years of schooling, male (years)',\n",
    "                 'Expected years of schooling, male (years)',\n",
    "                 'Mean years of schooling, male (years)',\n",
    "                 'Human Development Index (HDI)'\n",
    "                ]   \n",
    "\n",
    "target = 'Education index'\n",
    "top_indicators = {}\n",
    "country_names = inds_df.country_name.unique()\n",
    "for c in country_names:\n",
    "  features = get_potential_indicators(inds_df, c, target, dep_ed_ind, True)\n",
    "  for f in features:\n",
    "    if f in top_indicators:\n",
    "      top_indicators[f] += 1\n",
    "    else:\n",
    "      top_indicators[f] = 1\n",
    "\n",
    "sorted_top_indicators = sorted(top_indicators.items(), key=lambda kv: kv[1], reverse=True)\n",
    "for ind in sorted_top_indicators:\n",
    "  print(ind)"
   ]
  },
  {
   "cell_type": "markdown",
   "metadata": {},
   "source": [
    "-----Health\n",
    "In theory a better score in various health indicators should lead to a higher overall education score. If a person is healthier, then they will be capable of spending more time in school which will allow them to gain more knowledge.\n",
    "How does life expectancy affect education?\n",
    "Both life expectancy and Mean school years with respect to Life expectancy create a similar graph."
   ]
  },
  {
   "cell_type": "code",
   "execution_count": 14,
   "metadata": {},
   "outputs": [
    {
     "data": {
      "image/png": "[encoded data removed]",
      "text/plain": [
       "<Figure size 432x288 with 1 Axes>"
      ]
     },
     "metadata": {
      "needs_background": "light"
     },
     "output_type": "display_data"
    }
   ],
   "source": [
    "def plot_health(df):\n",
    "    health_df = df.drop(df.columns[[0, 1, 3]], axis=1)\n",
    "    life_expectancy = health_df[health_df.indicator_name == \"Life expectancy at birth (years)\"]\n",
    "    education_index = health_df[health_df.indicator_name == \"Education index\"]\n",
    "    life_ex = []\n",
    "    education_i = []\n",
    "    for i in range(len(life_expectancy)):\n",
    "        for j in range(1990, 2018):\n",
    "            c_val = life_expectancy[\"country_name\"].iloc[i]\n",
    "            if c_val in list(education_index[\"country_name\"]):\n",
    "                life_ex.append(life_expectancy[str(j)].iloc[i])\n",
    "                education_i.append(education_index[education_index.country_name == c_val][str(j)].iloc[0])\n",
    "    plt.xlabel(\"Life expectancy at birth (years)\")\n",
    "    plt.ylabel(\"Education Index\")\n",
    "    plt.scatter(life_ex, education_i)\n",
    "    #Best fit line error: SVD did not converge in Linear Least Squares\n",
    "    #fit = np.polyfit(life_ex, education_i, 1)\n",
    "    #fit_fn = np.poly1d(fit)\n",
    "    #plt.plot(life_ex, fit_fn(life_ex), color=\"red\")\n",
    "plot_health(inds_df)"
   ]
  },
  {
   "cell_type": "code",
   "execution_count": 15,
   "metadata": {},
   "outputs": [
    {
     "data": {
      "image/png": "[encoded data removed]",
      "text/plain": [
       "<Figure size 432x288 with 1 Axes>"
      ]
     },
     "metadata": {
      "needs_background": "light"
     },
     "output_type": "display_data"
    }
   ],
   "source": [
    "def plot_mean_schooling(df):\n",
    "    mean_school_df = df.drop(df.columns[[0, 1, 3]], axis=1)\n",
    "    life_expectancy = mean_school_df[mean_school_df.indicator_name == \"Life expectancy at birth (years)\"]\n",
    "    mean_years = mean_school_df[mean_school_df.indicator_name == \"Mean years of schooling (years)\"]\n",
    "    life_ex = []\n",
    "    mean_years_i = []\n",
    "    for i in range(len(life_expectancy)):\n",
    "        for j in range(1990, 2018):\n",
    "            c_val = life_expectancy[\"country_name\"].iloc[i]\n",
    "            if c_val in list(mean_years[\"country_name\"]):\n",
    "                life_ex.append(life_expectancy[str(j)].iloc[i])\n",
    "                mean_years_i.append(mean_years[mean_years.country_name == c_val][str(j)].iloc[0])\n",
    "    plt.xlabel(\"Life expectancy at birth (years)\")\n",
    "    plt.ylabel(\"Mean years of schooling (years)\")\n",
    "    plt.scatter(life_ex, mean_years_i)\n",
    "    #Best fit line error: SVD did not converge in Linear Least Squares\n",
    "    #fit = np.polyfit(life_ex, mean_years_i, 1)\n",
    "    #fit_fn = np.poly1d(fit)\n",
    "    #plt.plot(life_ex, fit_fn(life_ex), color=\"red\")\n",
    "plot_mean_schooling(inds_df)"
   ]
  },
  {
   "cell_type": "code",
   "execution_count": 7,
   "metadata": {},
   "outputs": [
    {
     "data": {
      "image/png": "[encoded data removed]",
      "text/plain": [
       "<Figure size 432x288 with 1 Axes>"
      ]
     },
     "metadata": {
      "needs_background": "light"
     },
     "output_type": "display_data"
    }
   ],
   "source": [
    "def plot_pisa_math(df):\n",
    "    #Retrieves the rows where the indicator is equal to the respective values\n",
    "    life_expectancy = df[df.indicator_name == \"Life expectancy at birth (years)\"]\n",
    "    pisa = df[df.indicator_name == \"Programme for International Student Assessment (PISA) score in mathematics\"]\n",
    "    life_val = []\n",
    "    pisa_val = []\n",
    "    for i in range(len(life_expectancy)):\n",
    "        c_val = life_expectancy[\"country_name\"].iloc[i]\n",
    "        #checks to see if both life_expectancy and pisa have this country entry \n",
    "        if c_val in list(pisa[\"country_name\"]):\n",
    "            life_val.append(life_expectancy[\"2015\"].iloc[i])\n",
    "            #picks out the pisa entry for that country for 2015\n",
    "            pisa_val.append(pisa[pisa.country_name == c_val][\"2015\"].iloc[0])\n",
    "    plt.xlabel(\"Life expectancy at birth (years)\")\n",
    "    plt.ylabel(\"Programme for International Student Assessment (PISA) score in mathematics\")\n",
    "    plt.scatter(life_val, pisa_val)\n",
    "    fit = np.polyfit(life_val, pisa_val, 1)\n",
    "    fit_fn = np.poly1d(fit)\n",
    "    plt.plot(life_val, fit_fn(life_val), color=\"red\")\n",
    "\n",
    "plot_pisa_math(inds_df)"
   ]
  },
  {
   "cell_type": "code",
   "execution_count": 5,
   "metadata": {},
   "outputs": [
    {
     "data": {
      "image/png": "[encoded data removed]",
      "text/plain": [
       "<Figure size 432x288 with 1 Axes>"
      ]
     },
     "metadata": {
      "needs_background": "light"
     },
     "output_type": "display_data"
    }
   ],
   "source": [
    "def plot_pisa_reading(df):\n",
    "    #Retrieves the rows where the indicator is equal to the respective values\n",
    "    life_expectancy = df[df.indicator_name == \"Life expectancy at birth (years)\"]\n",
    "    pisa = df[df.indicator_name == \"Programme for International Student Assessment (PISA) score in reading\"]\n",
    "    life_val = []\n",
    "    pisa_val = []\n",
    "    for i in range(len(life_expectancy)):\n",
    "        c_val = life_expectancy[\"country_name\"].iloc[i]\n",
    "        #checks to see if both life_expectancy and pisa have this country entry \n",
    "        if c_val in list(pisa[\"country_name\"]):\n",
    "            life_val.append(life_expectancy[\"2015\"].iloc[i])\n",
    "            #picks out the pisa entry for that country for 2015\n",
    "            pisa_val.append(pisa[pisa.country_name == c_val][\"2015\"].iloc[0])\n",
    "    plt.xlabel(\"Life expectancy at birth (years)\")\n",
    "    plt.ylabel(\"Programme for International Student Assessment (PISA) score in reading\")\n",
    "    plt.scatter(life_val, pisa_val)\n",
    "    fit = np.polyfit(life_val, pisa_val, 1)\n",
    "    fit_fn = np.poly1d(fit)\n",
    "    plt.plot(life_val, fit_fn(life_val), color=\"red\")\n",
    "    \n",
    "plot_pisa_reading(inds_df)"
   ]
  },
  {
   "cell_type": "code",
   "execution_count": 6,
   "metadata": {},
   "outputs": [
    {
     "data": {
      "image/png": "[encoded data removed]",
      "text/plain": [
       "<Figure size 432x288 with 1 Axes>"
      ]
     },
     "metadata": {
      "needs_background": "light"
     },
     "output_type": "display_data"
    }
   ],
   "source": [
    "def plot_pisa_science(df):\n",
    "    #Retrieves the rows where the indicator is equal to the respective values\n",
    "    life_expectancy = df[df.indicator_name == \"Life expectancy at birth (years)\"]\n",
    "    pisa = df[df.indicator_name == \"Programme for International Student Assessment (PISA) score in science\"]\n",
    "    life_val = []\n",
    "    pisa_val = []\n",
    "    for i in range(len(life_expectancy)):\n",
    "        c_val = life_expectancy[\"country_name\"].iloc[i]\n",
    "        #checks to see if both life_expectancy and pisa have this country entry \n",
    "        if c_val in list(pisa[\"country_name\"]):\n",
    "            life_val.append(life_expectancy[\"2015\"].iloc[i])\n",
    "            #picks out the pisa entry for that country for 2015\n",
    "            pisa_val.append(pisa[pisa.country_name == c_val][\"2015\"].iloc[0])\n",
    "    plt.xlabel(\"Life expectancy at birth (years)\")\n",
    "    plt.ylabel(\"Programme for International Student Assessment (PISA) score in science\")\n",
    "    plt.scatter(life_val, pisa_val)\n",
    "    fit = np.polyfit(life_val, pisa_val, 1)\n",
    "    fit_fn = np.poly1d(fit)\n",
    "    plt.plot(life_val, fit_fn(life_val), color=\"red\")\n",
    "\n",
    "plot_pisa_science(inds_df)"
   ]
  },
  {
   "cell_type": "code",
   "execution_count": null,
   "metadata": {},
   "outputs": [],
   "source": []
  }
 ],
 "metadata": {
  "colab": {
   "collapsed_sections": [],
   "name": "Copy of matrix education-analysis.ipynb",
   "provenance": [],
   "version": "0.3.2"
  },
  "kernelspec": {
   "display_name": "Python 3",
   "language": "python",
   "name": "python3"
  },
  "language_info": {
   "codemirror_mode": {
    "name": "ipython",
    "version": 3
   },
   "file_extension": ".py",
   "mimetype": "text/x-python",
   "name": "python",
   "nbconvert_exporter": "python",
   "pygments_lexer": "ipython3",
   "version": "3.7.1"
  }
 },
 "nbformat": 4,
 "nbformat_minor": 1
}
